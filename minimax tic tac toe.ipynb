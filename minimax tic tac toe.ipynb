{
 "cells": [
  {
   "cell_type": "markdown",
   "id": "7e95bd56-1d31-4a80-82e2-b07106f93c28",
   "metadata": {},
   "source": [
    "# minimax tic tac toe"
   ]
  },
  {
   "cell_type": "code",
   "execution_count": 3,
   "id": "f91dfa6f-21f2-468d-b841-16c76eda6d20",
   "metadata": {},
   "outputs": [
    {
     "name": "stdout",
     "output_type": "stream",
     "text": [
      "Welcome to Tic-Tac-Toe! You are 'X' and the AI is 'O'.\n",
      " | | \n",
      "-----\n",
      " | | \n",
      "-----\n",
      " | | \n",
      "-----\n"
     ]
    },
    {
     "name": "stdin",
     "output_type": "stream",
     "text": [
      "Enter your move (row and column: 1 2):  1 1\n"
     ]
    },
    {
     "name": "stdout",
     "output_type": "stream",
     "text": [
      "X| | \n",
      "-----\n",
      " |O| \n",
      "-----\n",
      " | | \n",
      "-----\n"
     ]
    },
    {
     "name": "stdin",
     "output_type": "stream",
     "text": [
      "Enter your move (row and column: 1 2):  2 1\n"
     ]
    },
    {
     "name": "stdout",
     "output_type": "stream",
     "text": [
      "X| | \n",
      "-----\n",
      "X|O| \n",
      "-----\n",
      "O| | \n",
      "-----\n"
     ]
    },
    {
     "name": "stdin",
     "output_type": "stream",
     "text": [
      "Enter your move (row and column: 1 2):  1 3\n"
     ]
    },
    {
     "name": "stdout",
     "output_type": "stream",
     "text": [
      "X|O|X\n",
      "-----\n",
      "X|O| \n",
      "-----\n",
      "O| | \n",
      "-----\n"
     ]
    },
    {
     "name": "stdin",
     "output_type": "stream",
     "text": [
      "Enter your move (row and column: 1 2):  3 2\n"
     ]
    },
    {
     "name": "stdout",
     "output_type": "stream",
     "text": [
      "X|O|X\n",
      "-----\n",
      "X|O|O\n",
      "-----\n",
      "O|X| \n",
      "-----\n"
     ]
    },
    {
     "name": "stdin",
     "output_type": "stream",
     "text": [
      "Enter your move (row and column: 1 2):  3 3\n"
     ]
    },
    {
     "name": "stdout",
     "output_type": "stream",
     "text": [
      "X|O|X\n",
      "-----\n",
      "X|O|O\n",
      "-----\n",
      "O|X|X\n",
      "-----\n",
      "It's a draw!\n"
     ]
    }
   ],
   "source": [
    "import math\n",
    "\n",
    "HUMAN = 'X' \n",
    "AI = 'O'     \n",
    "EMPTY = ' '  \n",
    "\n",
    "board = [[EMPTY for _ in range(3)] for _ in range(3)]\n",
    "\n",
    "def print_board(board):\n",
    "    for row in board:\n",
    "        print('|'.join(row))\n",
    "        print('-' * 5)\n",
    "\n",
    "def check_winner(board, player):\n",
    "    for row in board:\n",
    "        if all([cell == player for cell in row]):\n",
    "            return True\n",
    "    for col in range(3):\n",
    "        if all([board[row][col] == player for row in range(3)]):\n",
    "            return True\n",
    "    if all([board[i][i] == player for i in range(3)]) or all([board[i][2 - i] == player for i in range(3)]):\n",
    "        return True\n",
    "    return False\n",
    "\n",
    "def check_draw(board):\n",
    "    return all([cell != EMPTY for row in board for cell in row])\n",
    "\n",
    "# Heuristic function for evaluating terminal states\n",
    "def evaluate(board):\n",
    "    if check_winner(board, AI):\n",
    "        return 1\n",
    "    elif check_winner(board, HUMAN):\n",
    "        return -1\n",
    "    return 0  # Draw or undecided game\n",
    "\n",
    "def minimax(board, depth, is_maximizing):\n",
    "    score = evaluate(board)\n",
    "    \n",
    "    # Terminal state \n",
    "    if score == 1 or score == -1 or check_draw(board):\n",
    "        return score\n",
    "\n",
    "    if is_maximizing:\n",
    "        best_score = -math.inf\n",
    "        for row in range(3):\n",
    "            for col in range(3):\n",
    "                if board[row][col] == EMPTY:\n",
    "                    board[row][col] = AI\n",
    "                    best_score = max(best_score, minimax(board, depth + 1, False))\n",
    "                    board[row][col] = EMPTY\n",
    "        return best_score\n",
    "    else:\n",
    "        best_score = math.inf\n",
    "        for row in range(3):\n",
    "            for col in range(3):\n",
    "                if board[row][col] == EMPTY:\n",
    "                    board[row][col] = HUMAN\n",
    "                    best_score = min(best_score, minimax(board, depth + 1, True))\n",
    "                    board[row][col] = EMPTY\n",
    "        return best_score\n",
    "\n",
    "def best_move(board):\n",
    "    best_val = -math.inf\n",
    "    move = (-1, -1)\n",
    "    for row in range(3):\n",
    "        for col in range(3):\n",
    "            if board[row][col] == EMPTY:\n",
    "                board[row][col] = AI\n",
    "                move_val = minimax(board, 0, False)\n",
    "                board[row][col] = EMPTY\n",
    "                if move_val > best_val:\n",
    "                    move = (row, col)\n",
    "                    best_val = move_val\n",
    "    return move\n",
    "\n",
    "def make_move(board, row, col, player):\n",
    "    if board[row][col] == EMPTY:\n",
    "        board[row][col] = player\n",
    "        return True\n",
    "    return False\n",
    "\n",
    "# Main game loop\n",
    "def tic_tac_toe():\n",
    "    print(\"Welcome to Tic-Tac-Toe! You are 'X' and the AI is 'O'.\")\n",
    "    while True:\n",
    "        # Human turn\n",
    "        print_board(board)\n",
    "        human_move = input(\"Enter your move (row and column: 1 2): \")\n",
    "        row, col = map(int, human_move.split())\n",
    "        if not make_move(board, row - 1, col - 1, HUMAN):\n",
    "            print(\"Invalid move! Try again.\")\n",
    "            continue\n",
    "\n",
    "        if check_winner(board, HUMAN):\n",
    "            print_board(board)\n",
    "            print(\"Congratulations! You win!\")\n",
    "            break\n",
    "        if check_draw(board):\n",
    "            print_board(board)\n",
    "            print(\"It's a draw!\")\n",
    "            break\n",
    "\n",
    "        # AI turn\n",
    "        ai_move = best_move(board)\n",
    "        make_move(board, ai_move[0], ai_move[1], AI)\n",
    "\n",
    "        if check_winner(board, AI):\n",
    "            print_board(board)\n",
    "            print(\"AI wins! Better luck next time!\")\n",
    "            break\n",
    "        if check_draw(board):\n",
    "            print_board(board)\n",
    "            print(\"It's a draw!\")\n",
    "            break\n",
    "\n",
    "tic_tac_toe()"
   ]
  },
  {
   "cell_type": "code",
   "execution_count": null,
   "id": "f618bf5f-b085-4c5f-9f45-a8d6f0d832b7",
   "metadata": {},
   "outputs": [],
   "source": []
  }
 ],
 "metadata": {
  "kernelspec": {
   "display_name": "Python 3 (ipykernel)",
   "language": "python",
   "name": "python3"
  },
  "language_info": {
   "codemirror_mode": {
    "name": "ipython",
    "version": 3
   },
   "file_extension": ".py",
   "mimetype": "text/x-python",
   "name": "python",
   "nbconvert_exporter": "python",
   "pygments_lexer": "ipython3",
   "version": "3.12.4"
  }
 },
 "nbformat": 4,
 "nbformat_minor": 5
}
